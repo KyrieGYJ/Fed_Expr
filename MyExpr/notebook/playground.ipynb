{
 "cells": [
  {
   "cell_type": "code",
   "execution_count": 4,
   "metadata": {
    "tags": []
   },
   "outputs": [
    {
     "name": "stdout",
     "output_type": "stream",
     "text": [
      "tensor([[ 1,  2,  3,  4,  5],\n",
      "        [ 6,  7,  8,  9, 10]])\n",
      "tensor([[1, 0, 0, 4, 0],\n",
      "        [0, 2, 0, 0, 0],\n",
      "        [0, 0, 3, 0, 0]])\n",
      "tensor([[1, 2, 3, 0, 0],\n",
      "        [6, 7, 0, 0, 8],\n",
      "        [0, 0, 0, 0, 0]])\n",
      "tensor([[2],\n",
      "        [1]])\n",
      "tensor([[0., 0., 1.],\n",
      "        [0., 1., 0.]])\n"
     ]
    }
   ],
   "source": [
    "import torch\n",
    "src = torch.arange(1, 11).reshape(2, 5)\n",
    "print(src)\n",
    "\n",
    "index = torch.tensor([[0, 1, 2, 0]])\n",
    "# 测试scatter函数\n",
    "# scatter：将src中的值写入当前张量的index数组指定下标中。除了dim由index决定外，其余部分由src决定。\n",
    "# 即如果dim=0, res[index[i][j], j] = src[i, j]\n",
    "# 这里(0, 0)=src[0,0] (1, 1)=src[0, 1] (2, 2)=src[0, 2], (0, 3)=src[0, 3]\n",
    "res = torch.zeros(3, 5, dtype=src.dtype).scatter_(dim=0, index=index, src=src)\n",
    "print(res)\n",
    "\n",
    "# 如果dim=1, res[i, index[i][j]] = src[i, j]\n",
    "index = torch.tensor([[0, 1, 2], [0, 1, 4]])\n",
    "res = torch.zeros(3, 5, dtype=src.dtype).scatter_(1, index, src)\n",
    "print(res)\n",
    "\n",
    "output = torch.tensor([[0, 0 ,1], [0, 1, 0]])\n",
    "pred = torch.tensor([[2], [1]])\n",
    "print(pred.view(-1, 1))\n",
    "res = torch.zeros(output.size()).scatter_(1, pred.view(-1, 1), 1.)\n",
    "print(res)"
   ]
  },
  {
   "cell_type": "code",
   "execution_count": null,
   "metadata": {},
   "outputs": [],
   "source": []
  }
 ],
 "metadata": {
  "kernelspec": {
   "display_name": "Python 3 (ipykernel)",
   "language": "python",
   "name": "python3"
  },
  "language_info": {
   "codemirror_mode": {
    "name": "ipython",
    "version": 3
   },
   "file_extension": ".py",
   "mimetype": "text/x-python",
   "name": "python",
   "nbconvert_exporter": "python",
   "pygments_lexer": "ipython3",
   "version": "3.7.4"
  }
 },
 "nbformat": 4,
 "nbformat_minor": 4
}