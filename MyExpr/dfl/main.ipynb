{
 "cells": [
  {
   "cell_type": "code",
   "execution_count": 2,
   "metadata": {},
   "outputs": [
    {
     "name": "stdout",
     "output_type": "stream",
     "text": [
      "['/home/guest/Fed_Expr', '/home/guest/Fed_Expr/FedML', '/home/guest/Fed_Expr/MyExpr', '/home/guest/Fed_Expr', '/home/guest/Fed_Expr/FedML', '/home/guest/Fed_Expr/MyExpr', '/home/guest/Fed_Expr/MyExpr/dfl', '/home/guest/miniconda/envs/fedml/lib/python37.zip', '/home/guest/miniconda/envs/fedml/lib/python3.7', '/home/guest/miniconda/envs/fedml/lib/python3.7/lib-dynload', '', '/home/guest/miniconda/envs/fedml/lib/python3.7/site-packages', '/home/guest/miniconda/envs/fedml/lib/python3.7/site-packages/IPython/extensions', '/home/guest/.ipython']\n",
      "True\n",
      "GPU[0]: GeForce RTX 2080 Ti\n",
      "GPU[1]: GeForce RTX 2080 Ti\n",
      "GPU[2]: GeForce RTX 2080 Ti\n",
      "GPU[3]: GeForce RTX 2080 Ti\n"
     ]
    }
   ],
   "source": [
    "import logging\n",
    "import torch\n",
    "import sys\n",
    "import os\n",
    "from tqdm import tqdm\n",
    "import wandb\n",
    "\n",
    "# 添加环境\n",
    "sys.path.insert(0, os.path.abspath(os.path.join(os.getcwd(), \"../../MyExpr\")))\n",
    "sys.path.insert(0, os.path.abspath(os.path.join(os.getcwd(), \"../../FedML\")))\n",
    "sys.path.insert(0, os.path.abspath(os.path.join(os.getcwd(), \"../../\")))\n",
    "\n",
    "print(sys.path)\n",
    "\n",
    "# 查看GPU\n",
    "print(torch.cuda.is_available())\n",
    "for i in range(torch.cuda.device_count()):\n",
    "    print(\"GPU[{:d}]: {:s}\".format(i, torch.cuda.get_device_name(i)))\n",
    "\n",
    "# 选择GPU\n",
    "os.environ['CUDA_VISIBLE_DEVICES'] = \"0\"\n",
    "# print(torch.cuda.device_count())"
   ]
  },
  {
   "cell_type": "code",
   "execution_count": 3,
   "metadata": {
    "collapsed": false,
    "jupyter": {
     "outputs_hidden": false
    },
    "pycharm": {
     "name": "#%%\n"
    }
   },
   "outputs": [],
   "source": [
    "from fedml_api.standalone.decentralized.topology_manager import TopologyManager\n",
    "\n",
    "from MyExpr.dfl.model.resnet import resnet18\n",
    "from MyExpr.dfl.Args import add_args\n",
    "# from MyExpr.dfl.component.recorder import Recorder\n",
    "from MyExpr.dfl.component.client import Client\n",
    "from MyExpr.dfl.component.trainer import Trainer\n",
    "from MyExpr.dfl.component.broadcaster import Broadcaster\n",
    "from MyExpr.dfl.component.top_k import TopKSelector\n",
    "\n",
    "from MyExpr.data import Data\n",
    "\n",
    "parser = add_args()\n",
    "# args = parser.parse_args()\n",
    "args = parser.parse_known_args()[0]"
   ]
  },
  {
   "cell_type": "code",
   "execution_count": 5,
   "metadata": {},
   "outputs": [],
   "source": [
    "import wandb\n",
    "\n",
    "\n",
    "# snapshot of a single iteration\n",
    "class Snapshot(object):\n",
    "    def __init__(self, recorder):\n",
    "        self.recorder = recorder\n",
    "\n",
    "        self.local_train_loss_per_client = {}\n",
    "        self.mutual_train_loss_per_client = {}\n",
    "        self.local_train_correct_per_client = {}\n",
    "\n",
    "        # 聚合统计数据\n",
    "        self.mutual_train_regret = 0\n",
    "        self.local_train_regret = 0\n",
    "        self.total_local_train_correct = 0\n",
    "\n",
    "        # 均值\n",
    "        self.avg_local_train_loss_per_client = 0\n",
    "        self.avg_mutual_train_loss_per_client = 0\n",
    "        self.avg_local_train_acc = 0\n",
    "\n",
    "    def __repr__(self):\n",
    "        description = \"===============================epoch:{:d} iteration:{:d}===============================\\n\" \\\n",
    "                      \"mutual_train_regret:{:f}, local_train_regret:{:f}, avg_local_train_loss_per_client:{:f}\\n\" \\\n",
    "                      \"avg_mutual_train_loss_per_client:{:f}, avg_local_train_acc:{:f}\\n\" \\\n",
    "                      \"=====================================================================================\\n\"\n",
    "\n",
    "        return description.format(self.recorder.epoch, self.recorder.iteration, self.mutual_train_regret,\n",
    "                                  self.local_train_regret, self.avg_local_train_loss_per_client,\n",
    "                                  self.avg_mutual_train_loss_per_client, self.avg_local_train_acc)\n",
    "\n",
    "    # 聚合单个iteration的所有记录\n",
    "    def aggregate(self):\n",
    "        for c_id in self.recorder.client_dic.keys():\n",
    "            self.mutual_train_regret += self.mutual_train_loss_per_client[c_id]\n",
    "            self.local_train_regret += self.local_train_loss_per_client[c_id]\n",
    "            self.total_local_train_correct += self.local_train_correct_per_client[c_id]\n",
    "\n",
    "        self.avg_mutual_train_loss_per_client = self.mutual_train_regret / len(self.recorder.client_dic.keys())\n",
    "        self.avg_local_train_loss_per_client = self.local_train_regret / len(self.recorder.client_dic.keys())\n",
    "        self.avg_local_train_acc = self.total_local_train_correct / (\n",
    "                    self.recorder.args.batch_size * len(self.local_train_correct_per_client))\n",
    "\n",
    "\n",
    "class Recorder(object):\n",
    "\n",
    "    def __init__(self, client_dic, topology_manager, args):\n",
    "        self.client_dic = client_dic\n",
    "        self.topology_manager = topology_manager\n",
    "        self.args = args\n",
    "\n",
    "        self.epoch = 0\n",
    "        self.iteration = 0\n",
    "        self.cur_snapshot = Snapshot(self)\n",
    "        self.train_history_per_iteration = []\n",
    "        self.train_history_per_epoch = []\n",
    "        self.print_log = False\n",
    "        self.wandb_log = True\n",
    "\n",
    "    def next_iteration(self):\n",
    "        self.cur_snapshot.aggregate()\n",
    "        if self.print_log:\n",
    "            self.print_round_log()\n",
    "        self.iteration += 1\n",
    "        self.train_history_per_iteration.append(self.cur_snapshot)\n",
    "        self.cur_snapshot = Snapshot(self)\n",
    "\n",
    "    def next_epoch(self):\n",
    "        self.epoch += 1\n",
    "        self.iteration = 0\n",
    "\n",
    "        # todo 优化epoch总结输出\n",
    "        epoch_mutual_train_regret = 0\n",
    "        epoch_local_train_correct = 0\n",
    "        for snapshot in self.train_history_per_iteration:\n",
    "            epoch_mutual_train_regret += snapshot.mutual_train_regret\n",
    "            epoch_local_train_correct += snapshot.total_local_train_correct\n",
    "        # 记录本轮数据\n",
    "        self.train_history_per_epoch.append(self.train_history_per_iteration)\n",
    "\n",
    "        epoch_local_train_acc = epoch_local_train_correct / (\n",
    "                    self.args.batch_size * len(self.client_dic) * len(self.train_history_per_iteration))\n",
    "        if self.print_log:\n",
    "            print(\"epoch_mutual_train_regret:{:f} epoch_mutual_train_acc:{:f}\\n \".format(epoch_mutual_train_regret, epoch_local_train_acc))\n",
    "\n",
    "        # 重置轮记录\n",
    "        self.train_history_per_iteration = []\n",
    "\n",
    "        if self.wandb_log:\n",
    "            wandb.log({\"epoch_mutual_train_regret\":epoch_mutual_train_regret, \"epoch_mutual_train_acc\":epoch_local_train_acc})\n",
    "\n",
    "    def record_local_train_loss(self, c_id, loss):\n",
    "        self.cur_snapshot.local_train_loss_per_client[c_id] = loss\n",
    "\n",
    "    def record_mutual_train_loss(self, c_id, loss):\n",
    "        self.cur_snapshot.mutual_train_loss_per_client[c_id] = loss\n",
    "\n",
    "    def record_local_train_correct(self, c_id, correct):\n",
    "        self.cur_snapshot.local_train_correct_per_client[c_id] = correct\n",
    "        # print(\"correct:\", correct)\n",
    "\n",
    "    def print_round_log(self):\n",
    "        print(self.cur_snapshot)\n"
   ]
  },
  {
   "cell_type": "code",
   "execution_count": 6,
   "metadata": {
    "collapsed": false,
    "jupyter": {
     "outputs_hidden": false
    },
    "pycharm": {
     "name": "#%%\n"
    }
   },
   "outputs": [
    {
     "name": "stdout",
     "output_type": "stream",
     "text": [
      "Trainer use strategy:local_and_mutual\n",
      "Broadcaster use strategy:flood\n",
      "TopKSelector use strategy:loss\n",
      "finished topology generation\n"
     ]
    }
   ],
   "source": [
    "# 1、设置trainer策略\n",
    "trainer = Trainer()\n",
    "trainer.use(args.mutual_trainer_strategy)\n",
    "# 2、设置broadcaster策略\n",
    "broadcaster = Broadcaster()\n",
    "broadcaster.use(args.broadcaster_strategy)\n",
    "# 3、设置Top_K策略\n",
    "topK_selector = TopKSelector()\n",
    "topK_selector.use(args.topK_strategy)\n",
    "# 4、初始化拓扑结构\n",
    "client_num_in_total = args.client_num_in_total\n",
    "topology_manager = TopologyManager(client_num_in_total, True,\n",
    "                                           undirected_neighbor_num=args.topology_neighbors_num_undirected)\n",
    "topology_manager.generate_topology()\n",
    "print(\"finished topology generation\")"
   ]
  },
  {
   "cell_type": "code",
   "execution_count": 7,
   "metadata": {
    "collapsed": false,
    "jupyter": {
     "outputs_hidden": false
    },
    "pycharm": {
     "name": "#%%\n"
    }
   },
   "outputs": [],
   "source": [
    "# 5、加载数据集，划分\n",
    "data = Data(args)\n",
    "train_loader, test_loader, test_all = data.train_loader, data.test_loader, data.test_all\n",
    "train_data_size_per_client = len(train_loader[0])\n",
    "test_data_size_per_client = len(test_loader[0])\n",
    "epochs = args.epochs\n",
    "batch_size = args.batch_size\n",
    "train_iteration = train_data_size_per_client"
   ]
  },
  {
   "cell_type": "code",
   "execution_count": 8,
   "metadata": {
    "collapsed": false,
    "jupyter": {
     "outputs_hidden": false
    },
    "pycharm": {
     "name": "#%%\n"
    }
   },
   "outputs": [],
   "source": [
    "client_dic = {}\n",
    "# 6、注册recorder\n",
    "recorder = Recorder(client_dic, topology_manager, args)\n",
    "trainer.register_recorder(recorder)\n",
    "broadcaster.register_recorder(recorder)\n",
    "topK_selector.register_recoder(recorder)\n",
    "\n",
    "# 7、初始化client, 选择搭载模型等\n",
    "for c_id in range(client_num_in_total):\n",
    "    # \"ResNet18_GN\"\n",
    "    model = resnet18(num_classes=10)\n",
    "    optimizer = torch.optim.Adam(filter(lambda p: p.requires_grad, model.parameters()), lr=args.lr,\n",
    "                                     weight_decay=args.wd, amsgrad=True)\n",
    "    c = Client(model, c_id, args, train_loader[c_id], test_loader[c_id])\n",
    "    # 方便更换策略\n",
    "    c.register(topK_selector=topK_selector, recorder=recorder, broadcaster=broadcaster)\n",
    "    client_dic[c_id] = c\n"
   ]
  },
  {
   "cell_type": "code",
   "execution_count": null,
   "outputs": [],
   "source": [
    "# 8、开始训练\n",
    "\n",
    "wandb.init(project=\"dfl-topK-dml\",\n",
    "                entity=\"kyriegyj\",\n",
    "               config=args)\n",
    "\n",
    "for epoch in range(epochs):\n",
    "    # train\n",
    "    # todo 全体设置model.train()\n",
    "    for iteration in range(train_iteration):\n",
    "        # print(\"============开始训练(第:d轮)============\".format(iteration))\n",
    "        trainer.train()\n",
    "        # print(\"============结束训练(第:d轮)============\".format(iteration))\n",
    "    trainer.next_epoch()\n",
    "    recorder.next_epoch()\n",
    "    # todo 全体设置mode.eval()\n",
    "    # todo test\n",
    "wandb.finish()\n"
   ],
   "metadata": {
    "collapsed": false,
    "pycharm": {
     "name": "#%%\n"
    }
   }
  },
  {
   "cell_type": "code",
   "execution_count": null,
   "outputs": [],
   "source": [
    "# print(topology_manager.get_symmetric_neighbor_list(0))\n",
    "# print(topology_manager.get_symmetric_neighbor_list(1))\n",
    "# print(topology_manager.get_symmetric_neighbor_list(2))\n",
    "# wandb.finish()"
   ],
   "metadata": {
    "collapsed": false,
    "pycharm": {
     "name": "#%%\n"
    }
   }
  },
  {
   "cell_type": "code",
   "execution_count": null,
   "outputs": [],
   "source": [
    "print(train_iteration)\n",
    "print(args.batch_size)\n",
    "print(len(train_loader[0]))"
   ],
   "metadata": {
    "collapsed": false,
    "pycharm": {
     "name": "#%%\n"
    }
   }
  },
  {
   "cell_type": "code",
   "execution_count": null,
   "outputs": [],
   "source": [
    "# e = enumerate(train_loader[0])\n",
    "# _, (x, y) = next(e)\n",
    "# print(x.shape, y.shape)"
   ],
   "metadata": {
    "collapsed": false,
    "pycharm": {
     "name": "#%%\n"
    }
   }
  },
  {
   "cell_type": "code",
   "execution_count": null,
   "outputs": [],
   "source": [],
   "metadata": {
    "collapsed": false,
    "pycharm": {
     "name": "#%%\n"
    }
   }
  },
  {
   "cell_type": "code",
   "execution_count": 9,
   "metadata": {
    "collapsed": false,
    "jupyter": {
     "outputs_hidden": false
    },
    "pycharm": {
     "name": "#%%\n"
    }
   },
   "outputs": [
    {
     "name": "stdout",
     "output_type": "stream",
     "text": [
      "total: 4 selected: 3\n",
      "total: 4 selected: 3\n",
      "total: 4 selected: 3\n",
      "total: 4 selected: 3\n",
      "total: 4 selected: 3\n",
      "total: 4 selected: 3\n",
      "total: 4 selected: 3\n",
      "total: 4 selected: 3\n",
      "total: 4 selected: 3\n",
      "total: 4 selected: 3\n",
      "total: 4 selected: 3\n",
      "total: 4 selected: 3\n",
      "total: 4 selected: 3\n",
      "total: 4 selected: 3\n",
      "total: 4 selected: 3\n",
      "total: 4 selected: 3\n",
      "total: 4 selected: 3\n",
      "total: 4 selected: 3\n",
      "total: 4 selected: 3\n",
      "total: 4 selected: 3\n",
      "total: 4 selected: 3\n",
      "total: 4 selected: 3\n",
      "total: 4 selected: 3\n",
      "total: 4 selected: 3\n",
      "total: 4 selected: 3\n",
      "total: 4 selected: 3\n",
      "total: 4 selected: 3\n",
      "total: 4 selected: 3\n",
      "total: 4 selected: 3\n",
      "total: 4 selected: 3\n"
     ]
    },
    {
     "name": "stderr",
     "output_type": "stream",
     "text": [
      "ERROR:root:Internal Python error in the inspect module.\n",
      "Below is the traceback from this internal error.\n",
      "\n"
     ]
    },
    {
     "name": "stdout",
     "output_type": "stream",
     "text": [
      "Traceback (most recent call last):\n",
      "  File \"/home/guest/miniconda/envs/fedml/lib/python3.7/site-packages/IPython/core/interactiveshell.py\", line 3524, in run_code\n",
      "    exec(code_obj, self.user_global_ns, self.user_ns)\n",
      "  File \"/tmp/ipykernel_302443/1701665895.py\", line 12, in <module>\n",
      "    trainer.train()\n",
      "  File \"/home/guest/Fed_Expr/MyExpr/dfl/component/trainer.py\", line 49, in local_and_mutual_learning_collaborate_update\n",
      "    client_dic[c_id].train(client_data_dic[c_id][0], client_data_dic[c_id][1])\n",
      "  File \"/home/guest/Fed_Expr/MyExpr/dfl/component/client.py\", line 59, in train\n",
      "    loss.backward()\n",
      "  File \"/home/guest/miniconda/envs/fedml/lib/python3.7/site-packages/torch/_tensor.py\", line 307, in backward\n",
      "    torch.autograd.backward(self, gradient, retain_graph, create_graph, inputs=inputs)\n",
      "  File \"/home/guest/miniconda/envs/fedml/lib/python3.7/site-packages/torch/autograd/__init__.py\", line 156, in backward\n",
      "    allow_unreachable=True, accumulate_grad=True)  # allow_unreachable flag\n",
      "KeyboardInterrupt\n",
      "\n",
      "During handling of the above exception, another exception occurred:\n",
      "\n",
      "Traceback (most recent call last):\n",
      "  File \"/home/guest/miniconda/envs/fedml/lib/python3.7/site-packages/IPython/core/interactiveshell.py\", line 2088, in showtraceback\n",
      "    stb = value._render_traceback_()\n",
      "AttributeError: 'KeyboardInterrupt' object has no attribute '_render_traceback_'\n",
      "\n",
      "During handling of the above exception, another exception occurred:\n",
      "\n",
      "KeyboardInterrupt\n",
      "\n",
      "The above exception was the direct cause of the following exception:\n",
      "\n",
      "Traceback (most recent call last):\n",
      "  File \"/home/guest/miniconda/envs/fedml/lib/python3.7/site-packages/IPython/core/ultratb.py\", line 1101, in get_records\n",
      "    return _fixed_getinnerframes(etb, number_of_lines_of_context, tb_offset)\n",
      "  File \"/home/guest/miniconda/envs/fedml/lib/python3.7/site-packages/IPython/core/ultratb.py\", line 248, in wrapped\n",
      "    return f(*args, **kwargs)\n",
      "  File \"/home/guest/miniconda/envs/fedml/lib/python3.7/site-packages/IPython/core/ultratb.py\", line 281, in _fixed_getinnerframes\n",
      "    records = fix_frame_records_filenames(inspect.getinnerframes(etb, context))\n",
      "  File \"/home/guest/miniconda/envs/fedml/lib/python3.7/inspect.py\", line 1502, in getinnerframes\n",
      "    frameinfo = (tb.tb_frame,) + getframeinfo(tb, context)\n",
      "  File \"/home/guest/miniconda/envs/fedml/lib/python3.7/inspect.py\", line 1460, in getframeinfo\n",
      "    filename = getsourcefile(frame) or getfile(frame)\n",
      "  File \"/home/guest/miniconda/envs/fedml/lib/python3.7/inspect.py\", line 696, in getsourcefile\n",
      "    if getattr(getmodule(object, filename), '__loader__', None) is not None:\n",
      "  File \"/home/guest/miniconda/envs/fedml/lib/python3.7/inspect.py\", line 742, in getmodule\n",
      "    os.path.realpath(f)] = module.__name__\n",
      "  File \"/home/guest/miniconda/envs/fedml/lib/python3.7/posixpath.py\", line 395, in realpath\n",
      "    path, ok = _joinrealpath(filename[:0], filename, {})\n",
      "  File \"/home/guest/miniconda/envs/fedml/lib/python3.7/posixpath.py\", line 429, in _joinrealpath\n",
      "    if not islink(newpath):\n",
      "  File \"/home/guest/miniconda/envs/fedml/lib/python3.7/posixpath.py\", line 171, in islink\n",
      "    st = os.lstat(path)\n",
      "  File \"/home/guest/miniconda/envs/fedml/lib/python3.7/site-packages/torch/utils/data/_utils/signal_handling.py\", line 66, in handler\n",
      "    _error_if_any_worker_fails()\n",
      "SystemError: <built-in function _error_if_any_worker_fails> returned a result with an error set\n"
     ]
    },
    {
     "ename": "TypeError",
     "evalue": "object of type 'NoneType' has no len()",
     "output_type": "error",
     "traceback": [
      "\u001B[0;31m---------------------------------------------------------------------------\u001B[0m",
      "\u001B[0;31mKeyboardInterrupt\u001B[0m                         Traceback (most recent call last)",
      "    \u001B[0;31m[... skipping hidden 1 frame]\u001B[0m\n",
      "\u001B[0;32m/tmp/ipykernel_302443/1701665895.py\u001B[0m in \u001B[0;36m<module>\u001B[0;34m\u001B[0m\n\u001B[1;32m     11\u001B[0m         \u001B[0;31m# print(\"============开始训练(第:d轮)============\".format(iteration))\u001B[0m\u001B[0;34m\u001B[0m\u001B[0;34m\u001B[0m\u001B[0;34m\u001B[0m\u001B[0m\n\u001B[0;32m---> 12\u001B[0;31m         \u001B[0mtrainer\u001B[0m\u001B[0;34m.\u001B[0m\u001B[0mtrain\u001B[0m\u001B[0;34m(\u001B[0m\u001B[0;34m)\u001B[0m\u001B[0;34m\u001B[0m\u001B[0;34m\u001B[0m\u001B[0m\n\u001B[0m\u001B[1;32m     13\u001B[0m         \u001B[0;31m# print(\"============结束训练(第:d轮)============\".format(iteration))\u001B[0m\u001B[0;34m\u001B[0m\u001B[0;34m\u001B[0m\u001B[0;34m\u001B[0m\u001B[0m\n",
      "\u001B[0;32m~/Fed_Expr/MyExpr/dfl/component/trainer.py\u001B[0m in \u001B[0;36mlocal_and_mutual_learning_collaborate_update\u001B[0;34m(self)\u001B[0m\n\u001B[1;32m     48\u001B[0m         \u001B[0;32mfor\u001B[0m \u001B[0mc_id\u001B[0m \u001B[0;32min\u001B[0m \u001B[0mclient_dic\u001B[0m\u001B[0;34m.\u001B[0m\u001B[0mkeys\u001B[0m\u001B[0;34m(\u001B[0m\u001B[0;34m)\u001B[0m\u001B[0;34m:\u001B[0m\u001B[0;34m\u001B[0m\u001B[0;34m\u001B[0m\u001B[0m\n\u001B[0;32m---> 49\u001B[0;31m             \u001B[0mclient_dic\u001B[0m\u001B[0;34m[\u001B[0m\u001B[0mc_id\u001B[0m\u001B[0;34m]\u001B[0m\u001B[0;34m.\u001B[0m\u001B[0mtrain\u001B[0m\u001B[0;34m(\u001B[0m\u001B[0mclient_data_dic\u001B[0m\u001B[0;34m[\u001B[0m\u001B[0mc_id\u001B[0m\u001B[0;34m]\u001B[0m\u001B[0;34m[\u001B[0m\u001B[0;36m0\u001B[0m\u001B[0;34m]\u001B[0m\u001B[0;34m,\u001B[0m \u001B[0mclient_data_dic\u001B[0m\u001B[0;34m[\u001B[0m\u001B[0mc_id\u001B[0m\u001B[0;34m]\u001B[0m\u001B[0;34m[\u001B[0m\u001B[0;36m1\u001B[0m\u001B[0;34m]\u001B[0m\u001B[0;34m)\u001B[0m\u001B[0;34m\u001B[0m\u001B[0;34m\u001B[0m\u001B[0m\n\u001B[0m\u001B[1;32m     50\u001B[0m         \u001B[0;31m# send model\u001B[0m\u001B[0;34m\u001B[0m\u001B[0;34m\u001B[0m\u001B[0;34m\u001B[0m\u001B[0m\n",
      "\u001B[0;32m~/Fed_Expr/MyExpr/dfl/component/client.py\u001B[0m in \u001B[0;36mtrain\u001B[0;34m(self, train_X, train_Y)\u001B[0m\n\u001B[1;32m     58\u001B[0m \u001B[0;34m\u001B[0m\u001B[0m\n\u001B[0;32m---> 59\u001B[0;31m         \u001B[0mloss\u001B[0m\u001B[0;34m.\u001B[0m\u001B[0mbackward\u001B[0m\u001B[0;34m(\u001B[0m\u001B[0;34m)\u001B[0m\u001B[0;34m\u001B[0m\u001B[0;34m\u001B[0m\u001B[0m\n\u001B[0m\u001B[1;32m     60\u001B[0m         \u001B[0mself\u001B[0m\u001B[0;34m.\u001B[0m\u001B[0moptimizer\u001B[0m\u001B[0;34m.\u001B[0m\u001B[0mstep\u001B[0m\u001B[0;34m(\u001B[0m\u001B[0;34m)\u001B[0m\u001B[0;34m\u001B[0m\u001B[0;34m\u001B[0m\u001B[0m\n",
      "\u001B[0;32m~/miniconda/envs/fedml/lib/python3.7/site-packages/torch/_tensor.py\u001B[0m in \u001B[0;36mbackward\u001B[0;34m(self, gradient, retain_graph, create_graph, inputs)\u001B[0m\n\u001B[1;32m    306\u001B[0m                 inputs=inputs)\n\u001B[0;32m--> 307\u001B[0;31m         \u001B[0mtorch\u001B[0m\u001B[0;34m.\u001B[0m\u001B[0mautograd\u001B[0m\u001B[0;34m.\u001B[0m\u001B[0mbackward\u001B[0m\u001B[0;34m(\u001B[0m\u001B[0mself\u001B[0m\u001B[0;34m,\u001B[0m \u001B[0mgradient\u001B[0m\u001B[0;34m,\u001B[0m \u001B[0mretain_graph\u001B[0m\u001B[0;34m,\u001B[0m \u001B[0mcreate_graph\u001B[0m\u001B[0;34m,\u001B[0m \u001B[0minputs\u001B[0m\u001B[0;34m=\u001B[0m\u001B[0minputs\u001B[0m\u001B[0;34m)\u001B[0m\u001B[0;34m\u001B[0m\u001B[0;34m\u001B[0m\u001B[0m\n\u001B[0m\u001B[1;32m    308\u001B[0m \u001B[0;34m\u001B[0m\u001B[0m\n",
      "\u001B[0;32m~/miniconda/envs/fedml/lib/python3.7/site-packages/torch/autograd/__init__.py\u001B[0m in \u001B[0;36mbackward\u001B[0;34m(tensors, grad_tensors, retain_graph, create_graph, grad_variables, inputs)\u001B[0m\n\u001B[1;32m    155\u001B[0m         \u001B[0mtensors\u001B[0m\u001B[0;34m,\u001B[0m \u001B[0mgrad_tensors_\u001B[0m\u001B[0;34m,\u001B[0m \u001B[0mretain_graph\u001B[0m\u001B[0;34m,\u001B[0m \u001B[0mcreate_graph\u001B[0m\u001B[0;34m,\u001B[0m \u001B[0minputs\u001B[0m\u001B[0;34m,\u001B[0m\u001B[0;34m\u001B[0m\u001B[0;34m\u001B[0m\u001B[0m\n\u001B[0;32m--> 156\u001B[0;31m         allow_unreachable=True, accumulate_grad=True)  # allow_unreachable flag\n\u001B[0m\u001B[1;32m    157\u001B[0m \u001B[0;34m\u001B[0m\u001B[0m\n",
      "\u001B[0;31mKeyboardInterrupt\u001B[0m: ",
      "\nDuring handling of the above exception, another exception occurred:\n",
      "\u001B[0;31mAttributeError\u001B[0m                            Traceback (most recent call last)",
      "\u001B[0;32m~/miniconda/envs/fedml/lib/python3.7/site-packages/IPython/core/interactiveshell.py\u001B[0m in \u001B[0;36mshowtraceback\u001B[0;34m(self, exc_tuple, filename, tb_offset, exception_only, running_compiled_code)\u001B[0m\n\u001B[1;32m   2087\u001B[0m                         \u001B[0;31m# in the engines. This should return a list of strings.\u001B[0m\u001B[0;34m\u001B[0m\u001B[0;34m\u001B[0m\u001B[0;34m\u001B[0m\u001B[0m\n\u001B[0;32m-> 2088\u001B[0;31m                         \u001B[0mstb\u001B[0m \u001B[0;34m=\u001B[0m \u001B[0mvalue\u001B[0m\u001B[0;34m.\u001B[0m\u001B[0m_render_traceback_\u001B[0m\u001B[0;34m(\u001B[0m\u001B[0;34m)\u001B[0m\u001B[0;34m\u001B[0m\u001B[0;34m\u001B[0m\u001B[0m\n\u001B[0m\u001B[1;32m   2089\u001B[0m                     \u001B[0;32mexcept\u001B[0m \u001B[0mException\u001B[0m\u001B[0;34m:\u001B[0m\u001B[0;34m\u001B[0m\u001B[0;34m\u001B[0m\u001B[0m\n",
      "\u001B[0;31mAttributeError\u001B[0m: 'KeyboardInterrupt' object has no attribute '_render_traceback_'",
      "\nDuring handling of the above exception, another exception occurred:\n",
      "\u001B[0;31mTypeError\u001B[0m                                 Traceback (most recent call last)",
      "    \u001B[0;31m[... skipping hidden 1 frame]\u001B[0m\n",
      "\u001B[0;32m~/miniconda/envs/fedml/lib/python3.7/site-packages/IPython/core/interactiveshell.py\u001B[0m in \u001B[0;36mshowtraceback\u001B[0;34m(self, exc_tuple, filename, tb_offset, exception_only, running_compiled_code)\u001B[0m\n\u001B[1;32m   2089\u001B[0m                     \u001B[0;32mexcept\u001B[0m \u001B[0mException\u001B[0m\u001B[0;34m:\u001B[0m\u001B[0;34m\u001B[0m\u001B[0;34m\u001B[0m\u001B[0m\n\u001B[1;32m   2090\u001B[0m                         stb = self.InteractiveTB.structured_traceback(etype,\n\u001B[0;32m-> 2091\u001B[0;31m                                             value, tb, tb_offset=tb_offset)\n\u001B[0m\u001B[1;32m   2092\u001B[0m \u001B[0;34m\u001B[0m\u001B[0m\n\u001B[1;32m   2093\u001B[0m                     \u001B[0mself\u001B[0m\u001B[0;34m.\u001B[0m\u001B[0m_showtraceback\u001B[0m\u001B[0;34m(\u001B[0m\u001B[0metype\u001B[0m\u001B[0;34m,\u001B[0m \u001B[0mvalue\u001B[0m\u001B[0;34m,\u001B[0m \u001B[0mstb\u001B[0m\u001B[0;34m)\u001B[0m\u001B[0;34m\u001B[0m\u001B[0;34m\u001B[0m\u001B[0m\n",
      "\u001B[0;32m~/miniconda/envs/fedml/lib/python3.7/site-packages/IPython/core/ultratb.py\u001B[0m in \u001B[0;36mstructured_traceback\u001B[0;34m(self, etype, value, tb, tb_offset, number_of_lines_of_context)\u001B[0m\n\u001B[1;32m   1366\u001B[0m             \u001B[0mself\u001B[0m\u001B[0;34m.\u001B[0m\u001B[0mtb\u001B[0m \u001B[0;34m=\u001B[0m \u001B[0mtb\u001B[0m\u001B[0;34m\u001B[0m\u001B[0;34m\u001B[0m\u001B[0m\n\u001B[1;32m   1367\u001B[0m         return FormattedTB.structured_traceback(\n\u001B[0;32m-> 1368\u001B[0;31m             self, etype, value, tb, tb_offset, number_of_lines_of_context)\n\u001B[0m\u001B[1;32m   1369\u001B[0m \u001B[0;34m\u001B[0m\u001B[0m\n\u001B[1;32m   1370\u001B[0m \u001B[0;34m\u001B[0m\u001B[0m\n",
      "\u001B[0;32m~/miniconda/envs/fedml/lib/python3.7/site-packages/IPython/core/ultratb.py\u001B[0m in \u001B[0;36mstructured_traceback\u001B[0;34m(self, etype, value, tb, tb_offset, number_of_lines_of_context)\u001B[0m\n\u001B[1;32m   1266\u001B[0m             \u001B[0;31m# Verbose modes need a full traceback\u001B[0m\u001B[0;34m\u001B[0m\u001B[0;34m\u001B[0m\u001B[0;34m\u001B[0m\u001B[0m\n\u001B[1;32m   1267\u001B[0m             return VerboseTB.structured_traceback(\n\u001B[0;32m-> 1268\u001B[0;31m                 \u001B[0mself\u001B[0m\u001B[0;34m,\u001B[0m \u001B[0metype\u001B[0m\u001B[0;34m,\u001B[0m \u001B[0mvalue\u001B[0m\u001B[0;34m,\u001B[0m \u001B[0mtb\u001B[0m\u001B[0;34m,\u001B[0m \u001B[0mtb_offset\u001B[0m\u001B[0;34m,\u001B[0m \u001B[0mnumber_of_lines_of_context\u001B[0m\u001B[0;34m\u001B[0m\u001B[0;34m\u001B[0m\u001B[0m\n\u001B[0m\u001B[1;32m   1269\u001B[0m             )\n\u001B[1;32m   1270\u001B[0m         \u001B[0;32melif\u001B[0m \u001B[0mmode\u001B[0m \u001B[0;34m==\u001B[0m \u001B[0;34m'Minimal'\u001B[0m\u001B[0;34m:\u001B[0m\u001B[0;34m\u001B[0m\u001B[0;34m\u001B[0m\u001B[0m\n",
      "\u001B[0;32m~/miniconda/envs/fedml/lib/python3.7/site-packages/IPython/core/ultratb.py\u001B[0m in \u001B[0;36mstructured_traceback\u001B[0;34m(self, etype, evalue, etb, tb_offset, number_of_lines_of_context)\u001B[0m\n\u001B[1;32m   1123\u001B[0m \u001B[0;34m\u001B[0m\u001B[0m\n\u001B[1;32m   1124\u001B[0m         formatted_exception = self.format_exception_as_a_whole(etype, evalue, etb, number_of_lines_of_context,\n\u001B[0;32m-> 1125\u001B[0;31m                                                                tb_offset)\n\u001B[0m\u001B[1;32m   1126\u001B[0m \u001B[0;34m\u001B[0m\u001B[0m\n\u001B[1;32m   1127\u001B[0m         \u001B[0mcolors\u001B[0m \u001B[0;34m=\u001B[0m \u001B[0mself\u001B[0m\u001B[0;34m.\u001B[0m\u001B[0mColors\u001B[0m  \u001B[0;31m# just a shorthand + quicker name lookup\u001B[0m\u001B[0;34m\u001B[0m\u001B[0;34m\u001B[0m\u001B[0m\n",
      "\u001B[0;32m~/miniconda/envs/fedml/lib/python3.7/site-packages/IPython/core/ultratb.py\u001B[0m in \u001B[0;36mformat_exception_as_a_whole\u001B[0;34m(self, etype, evalue, etb, number_of_lines_of_context, tb_offset)\u001B[0m\n\u001B[1;32m   1080\u001B[0m \u001B[0;34m\u001B[0m\u001B[0m\n\u001B[1;32m   1081\u001B[0m \u001B[0;34m\u001B[0m\u001B[0m\n\u001B[0;32m-> 1082\u001B[0;31m         \u001B[0mlast_unique\u001B[0m\u001B[0;34m,\u001B[0m \u001B[0mrecursion_repeat\u001B[0m \u001B[0;34m=\u001B[0m \u001B[0mfind_recursion\u001B[0m\u001B[0;34m(\u001B[0m\u001B[0morig_etype\u001B[0m\u001B[0;34m,\u001B[0m \u001B[0mevalue\u001B[0m\u001B[0;34m,\u001B[0m \u001B[0mrecords\u001B[0m\u001B[0;34m)\u001B[0m\u001B[0;34m\u001B[0m\u001B[0;34m\u001B[0m\u001B[0m\n\u001B[0m\u001B[1;32m   1083\u001B[0m \u001B[0;34m\u001B[0m\u001B[0m\n\u001B[1;32m   1084\u001B[0m         \u001B[0mframes\u001B[0m \u001B[0;34m=\u001B[0m \u001B[0mself\u001B[0m\u001B[0;34m.\u001B[0m\u001B[0mformat_records\u001B[0m\u001B[0;34m(\u001B[0m\u001B[0mrecords\u001B[0m\u001B[0;34m,\u001B[0m \u001B[0mlast_unique\u001B[0m\u001B[0;34m,\u001B[0m \u001B[0mrecursion_repeat\u001B[0m\u001B[0;34m)\u001B[0m\u001B[0;34m\u001B[0m\u001B[0;34m\u001B[0m\u001B[0m\n",
      "\u001B[0;32m~/miniconda/envs/fedml/lib/python3.7/site-packages/IPython/core/ultratb.py\u001B[0m in \u001B[0;36mfind_recursion\u001B[0;34m(etype, value, records)\u001B[0m\n\u001B[1;32m    380\u001B[0m     \u001B[0;31m# first frame (from in to out) that looks different.\u001B[0m\u001B[0;34m\u001B[0m\u001B[0;34m\u001B[0m\u001B[0;34m\u001B[0m\u001B[0m\n\u001B[1;32m    381\u001B[0m     \u001B[0;32mif\u001B[0m \u001B[0;32mnot\u001B[0m \u001B[0mis_recursion_error\u001B[0m\u001B[0;34m(\u001B[0m\u001B[0metype\u001B[0m\u001B[0;34m,\u001B[0m \u001B[0mvalue\u001B[0m\u001B[0;34m,\u001B[0m \u001B[0mrecords\u001B[0m\u001B[0;34m)\u001B[0m\u001B[0;34m:\u001B[0m\u001B[0;34m\u001B[0m\u001B[0;34m\u001B[0m\u001B[0m\n\u001B[0;32m--> 382\u001B[0;31m         \u001B[0;32mreturn\u001B[0m \u001B[0mlen\u001B[0m\u001B[0;34m(\u001B[0m\u001B[0mrecords\u001B[0m\u001B[0;34m)\u001B[0m\u001B[0;34m,\u001B[0m \u001B[0;36m0\u001B[0m\u001B[0;34m\u001B[0m\u001B[0;34m\u001B[0m\u001B[0m\n\u001B[0m\u001B[1;32m    383\u001B[0m \u001B[0;34m\u001B[0m\u001B[0m\n\u001B[1;32m    384\u001B[0m     \u001B[0;31m# Select filename, lineno, func_name to track frames with\u001B[0m\u001B[0;34m\u001B[0m\u001B[0;34m\u001B[0m\u001B[0;34m\u001B[0m\u001B[0m\n",
      "\u001B[0;31mTypeError\u001B[0m: object of type 'NoneType' has no len()"
     ]
    }
   ],
   "source": []
  },
  {
   "cell_type": "code",
   "execution_count": null,
   "metadata": {},
   "outputs": [],
   "source": [
    "# print(topology_manager.get_symmetric_neighbor_list(0))\n",
    "# print(topology_manager.get_symmetric_neighbor_list(1))\n",
    "# print(topology_manager.get_symmetric_neighbor_list(2))\n",
    "# wandb.finish()"
   ]
  },
  {
   "cell_type": "code",
   "execution_count": null,
   "metadata": {},
   "outputs": [],
   "source": [
    "print(train_iteration)\n",
    "print(args.batch_size)\n",
    "print(len(train_loader[0]))"
   ]
  },
  {
   "cell_type": "code",
   "execution_count": null,
   "metadata": {},
   "outputs": [],
   "source": [
    "# f1计算\n",
    "c = client_dic[0]\n",
    "it = c.train_it\n",
    "_, (x, y) = next(it)\n",
    "x, y = x.to(c.device), y.to(c.device)\n",
    "output = c.model(x)\n",
    "pred = output.argmax(dim=1)\n",
    "# print(pred.cpu().shape)\n",
    "pred_mask = torch.zeros(output.size()).scatter_(1, pred.cpu().view(-1, 1), 1.)\n",
    "# print(pred_mask)\n",
    "pred_num = pred_mask.sum(0) # 数据中每类的预测量\n",
    "targ_mask = torch.zeros(output.size()).scatter_(1, y.data.cpu().view(-1, 1), 1.)\n",
    "targ_num = targ_mask.sum(0) # 标签中每类的数量\n",
    "acc_mask = pred_mask * targ_mask\n",
    "acc_num = acc_mask.sum(0) # 每类中预测正确的数量\n",
    "print(acc_num, targ_num, pred_num)\n",
    "\n",
    "# 防止0/0产生nan\n",
    "epsilon = 1e-7\n",
    "\n",
    "recall = acc_num / (targ_num + epsilon)\n",
    "precision = acc_num / (pred_num + epsilon)\n",
    "print(recall, precision)\n",
    "#\n",
    "f1 = 2 * recall * precision / (recall + precision + epsilon)\n",
    "f1_marco = f1.sum(0) / f1.size(0)\n",
    "print(\"F1-marco:\", f1_marco.data.item())\n",
    "\n",
    "# torch.clamp()区间限制\n",
    "# fp 为预测为positive，实际不是。pred去掉tp，剩下即为错误的positive预测，即为fp。\n",
    "fp = torch.clamp((pred_mask - targ_mask), 0.0).sum(0)\n",
    "# fn 为预测为negative，实际不是。targ去掉tp，剩下的即为没预测到的positive样本，即为fn。\n",
    "fn = torch.clamp((targ_mask - pred_mask), 0.0).sum(0)\n",
    "# print(\"pred_num:\", pred_num)\n",
    "# print(\"targ_num:\", targ_num)\n",
    "# print(\"acc_num:\", acc_num)\n",
    "# # tp + fp = pred_p\n",
    "# print(\"fp:\", fp)\n",
    "# # tp + fn = targ_p\n",
    "# print(\"fn:\", fn)\n",
    "\n",
    "acc_sum = acc_num.sum(0)\n",
    "fp_sum = fp.sum(0)\n",
    "fn_sum = fn.sum(0)\n",
    "\n",
    "precision_sum = acc_sum / (acc_sum + fp_sum + epsilon)\n",
    "recall_sum = acc_sum / (acc_sum + fn_sum + epsilon)\n",
    "f1_micro = 2 * recall_sum * precision_sum / (recall_sum + precision_sum + epsilon)\n",
    "print(\"f1_micro:\", f1_micro.data.item())"
   ]
  },
  {
   "cell_type": "code",
   "execution_count": null,
   "metadata": {},
   "outputs": [],
   "source": []
  }
 ],
 "metadata": {
  "kernelspec": {
   "display_name": "Python 3 (ipykernel)",
   "language": "python",
   "name": "python3"
  },
  "language_info": {
   "codemirror_mode": {
    "name": "ipython",
    "version": 3
   },
   "file_extension": ".py",
   "mimetype": "text/x-python",
   "name": "python",
   "nbconvert_exporter": "python",
   "pygments_lexer": "ipython3",
   "version": "3.7.4"
  }
 },
 "nbformat": 4,
 "nbformat_minor": 4
}