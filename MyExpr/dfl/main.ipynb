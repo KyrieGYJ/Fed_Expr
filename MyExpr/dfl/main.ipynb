{
 "cells": [
  {
   "cell_type": "code",
   "execution_count": null,
   "metadata": {
    "collapsed": true
   },
   "outputs": [],
   "source": [
    "import logging\n",
    "import torch\n",
    "import sys\n",
    "import os\n",
    "from tqdm import tqdm\n",
    "\n",
    "# 添加环境\n",
    "sys.path.insert(0, os.path.abspath(os.path.join(os.getcwd(), \"../../MyExpr\")))\n",
    "sys.path.insert(0, os.path.abspath(os.path.join(os.getcwd(), \"../../FedML\")))\n",
    "sys.path.insert(0, os.path.abspath(os.path.join(os.getcwd(), \"../../\")))\n",
    "\n",
    "print(sys.path)"
   ]
  },
  {
   "cell_type": "code",
   "execution_count": null,
   "outputs": [],
   "source": [
    "from fedml_api.standalone.decentralized.topology_manager import TopologyManager\n",
    "\n",
    "from MyExpr.dfl.model.resnet import resnet18\n",
    "from MyExpr.dfl.Args import add_args\n",
    "from MyExpr.dfl.component.client import Client\n",
    "from MyExpr.dfl.component.top_k import TopKSelector\n",
    "from MyExpr.dfl.component.broadcaster import Broadcaster\n",
    "from MyExpr.dfl.component.trainer import Trainer\n",
    "from MyExpr.dfl.component.recorder import Recorder\n",
    "from MyExpr.data import Data\n",
    "\n",
    "\n",
    "parser = add_args()\n",
    "# args = parser.parse_args()\n",
    "args = parser.parse_known_args()[0]"
   ],
   "metadata": {
    "collapsed": false,
    "pycharm": {
     "name": "#%%\n"
    }
   }
  },
  {
   "cell_type": "code",
   "execution_count": null,
   "outputs": [],
   "source": [
    "# 1、设置trainer策略\n",
    "trainer = Trainer()\n",
    "trainer.use(args.mutual_trainer_strategy)\n",
    "# 2、设置broadcaster策略\n",
    "broadcaster = Broadcaster()\n",
    "broadcaster.use(args.broadcaster_strategy)\n",
    "# 3、设置Top_K策略\n",
    "topK_selector = TopKSelector()\n",
    "topK_selector.use(args.topK_strategy)\n",
    "# 4、初始化拓扑结构\n",
    "client_num_in_total = args.client_num_in_total\n",
    "topology_manager = TopologyManager(client_num_in_total, True,\n",
    "                                           undirected_neighbor_num=args.topology_neighbors_num_undirected)"
   ],
   "metadata": {
    "collapsed": false,
    "pycharm": {
     "name": "#%%\n"
    }
   }
  },
  {
   "cell_type": "code",
   "execution_count": null,
   "outputs": [],
   "source": [
    "# 5、加载数据集，划分\n",
    "data = Data(args)\n",
    "train_loader, test_loader, test_all = data.train_loader, data.test_loader, data.test_all\n",
    "train_data_size_per_client = len(train_loader[0])\n",
    "test_data_size_per_client = len(test_loader[0])\n",
    "epochs = args.epochs\n",
    "batch_size = args.batch_size\n",
    "train_iteration = int(train_data_size_per_client / batch_size)"
   ],
   "metadata": {
    "collapsed": false,
    "pycharm": {
     "name": "#%%\n"
    }
   }
  },
  {
   "cell_type": "code",
   "execution_count": null,
   "outputs": [],
   "source": [
    "client_dic = {}\n",
    "# 6、注册recorder\n",
    "recorder = Recorder(client_dic, topology_manager, args)\n",
    "trainer.register_recorder(recorder)\n",
    "broadcaster.register_recorder(recorder)\n",
    "topK_selector.register_recoder(recorder)\n",
    "\n",
    "# 7、初始化client, 选择搭载模型等\n",
    "for c_id in range(client_num_in_total):\n",
    "    # \"ResNet18_GN\"\n",
    "    model = resnet18(num_classes=10)\n",
    "    optimizer = torch.optim.Adam(filter(lambda p: p.requires_grad, model.parameters()), lr=args.lr,\n",
    "                                     weight_decay=args.wd, amsgrad=True)\n",
    "    c = Client(model, c_id, args, train_loader[c_id], test_loader[c_id])\n",
    "    # 方便更换策略\n",
    "    c.register(topK_selector=topK_selector, recorder=recorder, broadcaster=broadcaster)\n",
    "    client_dic[c_id] = c\n",
    "\n",
    "# todo 插入 wandb"
   ],
   "metadata": {
    "collapsed": false,
    "pycharm": {
     "name": "#%%\n"
    }
   }
  },
  {
   "cell_type": "code",
   "execution_count": null,
   "outputs": [],
   "source": [
    "# 8、开始训练\n",
    "for epoch in range(epochs):\n",
    "    # train\n",
    "    for iteration in range(train_iteration):\n",
    "        logging.info(\"============开始训练(第:d轮)============\".format(iteration))\n",
    "        trainer.train(iteration)\n",
    "        logging.info(\"============结束训练(第:d轮)============\".format(iteration))\n",
    "    recorder.next_epoch()\n",
    "    break\n",
    "    # todo test\n",
    "\n",
    "c = client_dic[0]\n",
    "print(c.train_loader.dataset)\n",
    "print(len(c.train_loader.dataset))\n",
    "\n",
    "it = c.train_loader.__iter__()\n",
    "\n",
    "for idx, (data, target) in it:\n",
    "    print(data.shape)\n",
    "\n",
    "# for idx, (data, target) in enumerate(c.train_loader):\n",
    "#     # print(data.shape)\n",
    "#     # print(target.shape)\n",
    "#     print(idx)\n",
    "\n"
   ],
   "metadata": {
    "collapsed": false,
    "pycharm": {
     "name": "#%%\n"
    }
   }
  }
 ],
 "metadata": {
  "kernelspec": {
   "display_name": "Python 3",
   "language": "python",
   "name": "python3"
  },
  "language_info": {
   "codemirror_mode": {
    "name": "ipython",
    "version": 2
   },
   "file_extension": ".py",
   "mimetype": "text/x-python",
   "name": "python",
   "nbconvert_exporter": "python",
   "pygments_lexer": "ipython2",
   "version": "2.7.6"
  }
 },
 "nbformat": 4,
 "nbformat_minor": 0
}