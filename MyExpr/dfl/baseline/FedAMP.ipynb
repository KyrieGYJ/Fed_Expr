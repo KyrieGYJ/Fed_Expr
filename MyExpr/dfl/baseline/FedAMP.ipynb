{
 "cells": [
  {
   "cell_type": "code",
   "execution_count": null,
   "metadata": {
    "collapsed": true
   },
   "outputs": [],
   "source": [
    "from IPython.display import clear_output\n",
    "import os\n",
    "import shutil\n",
    "!wget https://obsfs-notebook.obs.cn-north-4.myhuaweicloud.com/FedAMP.zip\n",
    "if os.path.exists('FedAMP'):\n",
    "    shutil.rmtree('FedAMP')\n",
    "!mkdir FedAMP\n",
    "!unzip FedAMP.zip -d FedAMP\n",
    "!rm FedAMP.zip\n",
    "clear_output(wait=False)\n",
    "!pip install torchvision==0.5.0\n",
    "clear_output(wait=False)\n",
    "!pip install torch==1.4.0\n",
    "clear_output(wait=False)\n",
    "!pip install FedAMP/package/moxing_pytorch-1.17.3.fed-cp36-cp36m-linux_x86_64.whl\n",
    "!rm -r FedAMP/package\n",
    "clear_output(wait=False)"
   ]
  }
 ],
 "metadata": {
  "kernelspec": {
   "display_name": "Python 3",
   "language": "python",
   "name": "python3"
  },
  "language_info": {
   "codemirror_mode": {
    "name": "ipython",
    "version": 2
   },
   "file_extension": ".py",
   "mimetype": "text/x-python",
   "name": "python",
   "nbconvert_exporter": "python",
   "pygments_lexer": "ipython2",
   "version": "2.7.6"
  }
 },
 "nbformat": 4,
 "nbformat_minor": 0
}