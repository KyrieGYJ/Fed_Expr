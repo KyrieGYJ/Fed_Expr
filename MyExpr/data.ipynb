{
 "cells": [
  {
   "cell_type": "code",
   "execution_count": 1,
   "metadata": {
    "tags": []
   },
   "outputs": [
    {
     "name": "stdout",
     "output_type": "stream",
     "text": [
      "['/home/ubuntu', '/home/ubuntu/FedML', '/home/ubuntu/MyExpr', '/home/ubuntu/Fed_Expr/MyExpr', '/home/ubuntu/miniconda/envs/fedml/lib/python37.zip', '/home/ubuntu/miniconda/envs/fedml/lib/python3.7', '/home/ubuntu/miniconda/envs/fedml/lib/python3.7/lib-dynload', '', '/home/ubuntu/miniconda/envs/fedml/lib/python3.7/site-packages', '/home/ubuntu/miniconda/envs/fedml/lib/python3.7/site-packages/IPython/extensions', '/home/ubuntu/.ipython']\n"
     ]
    }
   ],
   "source": [
    "import sys\n",
    "import os\n",
    "import argparse\n",
    "\n",
    "# 添加环境\n",
    "sys.path.insert(0, os.path.abspath(os.path.join(os.getcwd(), \"../../MyExpr\")))\n",
    "sys.path.insert(0, os.path.abspath(os.path.join(os.getcwd(), \"../../FedML\")))\n",
    "sys.path.insert(0, os.path.abspath(os.path.join(os.getcwd(), \"../../\")))\n",
    "\n",
    "print(sys.path)"
   ]
  },
  {
   "cell_type": "code",
   "execution_count": 27,
   "metadata": {
    "collapsed": false,
    "jupyter": {
     "outputs_hidden": false
    },
    "pycharm": {
     "name": "#%%\n"
    }
   },
   "outputs": [],
   "source": [
    "import torch\n",
    "import os.path\n",
    "from torchvision.datasets import utils, MNIST, CIFAR10\n",
    "from torchvision import transforms\n",
    "from torch.utils.data import Subset, DataLoader\n",
    "from PIL import Image\n",
    "\n",
    "num_workers = 2\n",
    "\n",
    "class FEMNIST(MNIST):\n",
    "    \"\"\"\n",
    "    This dataset is derived from the Leaf repository\n",
    "    (https://github.com/TalwalkarLab/leaf) pre-processing of the Extended MNIST\n",
    "    dataset, grouping examples by writer. Details about Leaf were published in\n",
    "    \"LEAF: A Benchmark for Federated Settings\" https://arxiv.org/abs/1812.01097.\n",
    "    \"\"\"\n",
    "    resources = [\n",
    "        ('https://raw.githubusercontent.com/tao-shen/FEMNIST_pytorch/master/femnist.tar.gz',\n",
    "         '59c65cec646fc57fe92d27d83afdf0ed')]\n",
    "\n",
    "    def __init__(self, root, train=True, transform=None, target_transform=None,\n",
    "                 download=False):\n",
    "        super(MNIST, self).__init__(root, transform=transform,\n",
    "                                    target_transform=target_transform)\n",
    "        self.train = train\n",
    "\n",
    "        if download:\n",
    "            self.download()\n",
    "\n",
    "        if not self._check_exists():\n",
    "            raise RuntimeError('Dataset not found.' +\n",
    "                               ' You can use download=True to download it')\n",
    "        if self.train:\n",
    "            data_file = self.training_file\n",
    "        else:\n",
    "            data_file = self.test_file\n",
    "\n",
    "        self.data, self.targets, self.users_index = torch.load(os.path.join(self.processed_folder, data_file))\n",
    "\n",
    "    def __getitem__(self, index):\n",
    "        img, target = self.data[index], int(self.targets[index])\n",
    "        img = Image.fromarray(img.numpy(), mode='F')\n",
    "        if self.transform is not None:\n",
    "            img = self.transform(img)\n",
    "        if self.target_transform is not None:\n",
    "            target = self.target_transform(target)\n",
    "        return img, target\n",
    "\n",
    "    def download(self):\n",
    "        \"\"\"Download the FEMNIST data if it doesn't exist in processed_folder already.\"\"\"\n",
    "        import shutil\n",
    "\n",
    "        if self._check_exists():\n",
    "            return\n",
    "\n",
    "        utils.makedir_exist_ok(self.raw_folder)\n",
    "        utils.makedir_exist_ok(self.processed_folder)\n",
    "\n",
    "        # download files\n",
    "        for url, md5 in self.resources:\n",
    "            filename = url.rpartition('/')[2]\n",
    "            utils.download_and_extract_archive(url, download_root=self.raw_folder, filename=filename, md5=md5)\n",
    "\n",
    "        # process and save as torch files\n",
    "        print('Processing...')\n",
    "        shutil.move(os.path.join(self.raw_folder, self.training_file), self.processed_folder)\n",
    "        shutil.move(os.path.join(self.raw_folder, self.test_file), self.processed_folder)\n",
    "\n",
    "\n",
    "def Dataset(args):\n",
    "    trainset, testset = None, None\n",
    "\n",
    "    if args.dataset == 'cifar10':\n",
    "        tra_trans = transforms.Compose([\n",
    "            transforms.RandomCrop(32, padding=4),\n",
    "            transforms.RandomHorizontalFlip(),\n",
    "            transforms.ToTensor(),\n",
    "            transforms.Normalize((0.4914, 0.4822, 0.4465), (0.2023, 0.1994, 0.2010)),\n",
    "        ])\n",
    "        val_trans = transforms.Compose([\n",
    "            transforms.ToTensor(),\n",
    "            transforms.Normalize((0.4914, 0.4822, 0.4465), (0.2023, 0.1994, 0.2010)),\n",
    "        ])\n",
    "        trainset = CIFAR10(root=\"./data\", train=True, download=False, transform=tra_trans)\n",
    "        testset = CIFAR10(root=\"./data\", train=False, download=False, transform=val_trans)\n",
    "\n",
    "    if args.dataset == 'femnist' or 'mnist':\n",
    "        tra_trans = transforms.Compose([\n",
    "            transforms.Pad(2, padding_mode='edge'),\n",
    "            transforms.ToTensor(),\n",
    "            transforms.Normalize((0.1307,), (0.3081,)),\n",
    "        ])\n",
    "        val_trans = transforms.Compose([\n",
    "            transforms.Pad(2, padding_mode='edge'),\n",
    "            transforms.ToTensor(),\n",
    "            transforms.Normalize((0.1307,), (0.3081,)),\n",
    "        ])\n",
    "        if args.dataset == 'femnist':\n",
    "            trainset = FEMNIST(root='./data', train=True, transform=tra_trans)\n",
    "            testset = FEMNIST(root='./data', train=False, transform=val_trans)\n",
    "        if args.dataset == 'mnist':\n",
    "            trainset = MNIST(root='./data', train=True, transform=tra_trans)\n",
    "            testset = MNIST(root='./data', train=False, transform=val_trans)\n",
    "\n",
    "    return trainset, testset\n",
    "\n",
    "\n",
    "class Data(object):\n",
    "\n",
    "    def __init__(self, args):\n",
    "        self.args = args\n",
    "        self.trainset, self.testset = None, None\n",
    "\n",
    "        trainset, testset = Dataset(args)\n",
    "        # print(trainset, type(trainset))\n",
    "        # print(testset, type(testset))\n",
    "        # 标签\n",
    "        # print(trainset.targets, testset.targets)\n",
    "        \n",
    "        \n",
    "        # 均等分训练数据集\n",
    "        num_train = [int(len(trainset) / args.split) for _ in range(args.split)]\n",
    "        # print(\"num_train:\", num_train)\n",
    "\n",
    "        # 求前缀和\n",
    "        cumsum_train = torch.tensor(list(num_train)).cumsum(dim=0).tolist()\n",
    "        # print(\"cumsum_train:\", cumsum_train)\n",
    "        \n",
    "        # # 将trainset的下标按标签进行排序，然后放到idx_train， 下同\n",
    "        # idx_train = sorted(range(len(trainset.targets)), key=lambda k: trainset.targets[k])  #split by class\n",
    "        # 将trainset的下标抽出放到idx_train，下同\n",
    "        idx_train = range(len(trainset.targets))\n",
    "        \n",
    "        # 将划分好的下标，按照num_train划分成不同子集，【前缀和-num_train: 前缀和】\n",
    "        splited_trainset = [Subset(trainset, idx_train[off - l:off]) for off, l in zip(cumsum_train, num_train)]\n",
    "        \n",
    "        num_test = [int(len(testset) / args.split) for _ in range(args.split)]\n",
    "        cumsum_test = torch.tensor(list(num_test)).cumsum(dim=0).tolist()\n",
    "        \n",
    "        # idx_train = sorted(range(len(trainset.targets)), key=lambda k: trainset.targets[k])  #split by class\n",
    "        \n",
    "        \n",
    "        idx_test = range(len(testset.targets))\n",
    "        \n",
    "        splited_testset = [Subset(testset, idx_test[off - l:off]) for off, l in zip(cumsum_test, num_test)]\n",
    "        # print(splited_testset)\n",
    "        \n",
    "        self.test_all = DataLoader(testset, batch_size=args.batchsize, shuffle=False, num_workers=num_workers)\n",
    "        self.train_loader = [DataLoader(splited_trainset[i], batch_size=args.batchsize, shuffle=True, num_workers=num_workers)\n",
    "                             for i in range(args.node_num)]\n",
    "        self.test_loader = [DataLoader(splited_testset[i], batch_size=args.batchsize, shuffle=False, num_workers=num_workers)\n",
    "                            for i in range(args.node_num)]\n",
    "        # 重复test_all>>>\n",
    "        # self.test_loader = DataLoader(testset, batch_size=args.batchsize, shuffle=False, num_workers=num_workers)"
   ]
  },
  {
   "cell_type": "code",
   "execution_count": 28,
   "metadata": {
    "collapsed": false,
    "jupyter": {
     "outputs_hidden": false
    },
    "pycharm": {
     "name": "#%%\n"
    }
   },
   "outputs": [
    {
     "name": "stdout",
     "output_type": "stream",
     "text": [
      "2000 2000\n",
      "4000 2000\n",
      "6000 2000\n",
      "8000 2000\n",
      "10000 2000\n",
      "[<torch.utils.data.dataset.Subset object at 0x7f589c42f810>, <torch.utils.data.dataset.Subset object at 0x7f589c42f8d0>, <torch.utils.data.dataset.Subset object at 0x7f589c42ff50>, <torch.utils.data.dataset.Subset object at 0x7f589c42f4d0>, <torch.utils.data.dataset.Subset object at 0x7f589c42ff10>]\n"
     ]
    }
   ],
   "source": [
    "parser = argparse.ArgumentParser()\n",
    "parser.add_argument('--split', type=int, default=5,\n",
    "                        help='data split')\n",
    "parser.add_argument('--batchsize', type=int, default=128,\n",
    "                        help='batchsize')\n",
    "parser.add_argument('--node_num', type=int, default=5,\n",
    "                    help='Number of nodes')\n",
    "parser.add_argument('--dataset', type=str, default='cifar10',\n",
    "                    help='datasets: {cifar100, cifar10, femnist, mnist}')\n",
    "args = parser.parse_known_args()[0]\n",
    "\n",
    "Data = Data(args)"
   ]
  },
  {
   "cell_type": "code",
   "execution_count": null,
   "outputs": [],
   "source": [
    "\n",
    "# l = [1, 2, 3, 4]\n",
    "# 求前缀和\n",
    "# cumsum_train = torch.tensor(l).cumsum(dim=0).tolist()\n",
    "# 打印为：[1, 3, 6, 10]\n",
    "# print(cumsum_train) "
   ],
   "metadata": {
    "collapsed": false,
    "pycharm": {
     "name": "#%%\n"
    }
   }
  },
  {
   "cell_type": "code",
   "execution_count": null,
   "outputs": [],
   "source": [],
   "metadata": {
    "collapsed": false,
    "pycharm": {
     "name": "#%%\n"
    }
   }
  },
  {
   "cell_type": "code",
   "execution_count": 26,
   "metadata": {},
   "outputs": [],
   "source": []
  },
  {
   "cell_type": "code",
   "execution_count": null,
   "metadata": {},
   "outputs": [],
   "source": []
  }
 ],
 "metadata": {
  "kernelspec": {
   "display_name": "Python 3",
   "language": "python",
   "name": "python3"
  },
  "language_info": {
   "codemirror_mode": {
    "name": "ipython",
    "version": 3
   },
   "file_extension": ".py",
   "mimetype": "text/x-python",
   "name": "python",
   "nbconvert_exporter": "python",
   "pygments_lexer": "ipython3",
   "version": "3.7.4"
  }
 },
 "nbformat": 4,
 "nbformat_minor": 4
}