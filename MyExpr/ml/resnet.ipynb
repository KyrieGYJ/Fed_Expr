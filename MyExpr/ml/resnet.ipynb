{
 "cells": [
  {
   "cell_type": "code",
   "execution_count": 1,
   "metadata": {
    "tags": []
   },
   "outputs": [
    {
     "name": "stdout",
     "output_type": "stream",
     "text": [
      "['/home/guest/Fed_Expr', '/home/guest/Fed_Expr/FedML', '/home/guest/Fed_Expr/MyExpr', '/home/guest/Fed_Expr/MyExpr/ml', '/home/guest/miniconda/envs/fedml/lib/python37.zip', '/home/guest/miniconda/envs/fedml/lib/python3.7', '/home/guest/miniconda/envs/fedml/lib/python3.7/lib-dynload', '', '/home/guest/miniconda/envs/fedml/lib/python3.7/site-packages', '/home/guest/miniconda/envs/fedml/lib/python3.7/site-packages/IPython/extensions', '/home/guest/.ipython']\n",
      "True\n",
      "GPU[0]: GeForce RTX 2080 Ti\n",
      "GPU[1]: GeForce RTX 2080 Ti\n",
      "GPU[2]: GeForce RTX 2080 Ti\n",
      "GPU[3]: GeForce RTX 2080 Ti\n",
      "4\n"
     ]
    }
   ],
   "source": [
    "import logging\n",
    "import torch\n",
    "import sys\n",
    "import os\n",
    "from tqdm import tqdm\n",
    "\n",
    "# 添加环境\n",
    "sys.path.insert(0, os.path.abspath(os.path.join(os.getcwd(), \"../../MyExpr\")))\n",
    "sys.path.insert(0, os.path.abspath(os.path.join(os.getcwd(), \"../../FedML\")))\n",
    "sys.path.insert(0, os.path.abspath(os.path.join(os.getcwd(), \"../../\")))\n",
    "\n",
    "print(sys.path)\n",
    "\n",
    "# 查看GPU\n",
    "print(torch.cuda.is_available())\n",
    "for i in range(torch.cuda.device_count()):\n",
    "    print(\"GPU[{:d}]: {:s}\".format(i, torch.cuda.get_device_name(i)))\n",
    "\n",
    "# 选择GPU\n",
    "os.environ['CUDA_VISIBLE_DEVICES'] =  \"0\"\n",
    "print(torch.cuda.device_count())"
   ]
  },
  {
   "cell_type": "code",
   "execution_count": 2,
   "metadata": {
    "collapsed": false,
    "jupyter": {
     "outputs_hidden": false
    },
    "pycharm": {
     "name": "#%%\n"
    }
   },
   "outputs": [],
   "source": [
    "from MyExpr.dfl.Args import add_args\n",
    "from MyExpr.data import Dataset\n",
    "from torch.utils.data import DataLoader\n",
    "\n",
    "parser = add_args()\n",
    "# args = parser.parse_args()\n",
    "args = parser.parse_known_args()[0]\n",
    "\n",
    "train_set, test_set = Dataset(args)\n",
    "\n",
    "\n",
    "train_loader = DataLoader(train_set, batch_size=args.batch_size, shuffle=False, num_workers=args.num_workers)\n",
    "test_loader = DataLoader(test_set, batch_size=args.batch_size, shuffle=False, num_workers=args.num_workers)"
   ]
  },
  {
   "cell_type": "code",
   "execution_count": 3,
   "metadata": {
    "collapsed": false,
    "jupyter": {
     "outputs_hidden": false
    },
    "pycharm": {
     "name": "#%%\n"
    }
   },
   "outputs": [],
   "source": [
    "from MyExpr.dfl.model.resnet import resnet18\n",
    "from MyExpr.dfl.model.resnet import resnet34\n",
    "from MyExpr.dfl.model.resnet import resnet50\n",
    "from MyExpr.dfl.model.resnet import resnet101\n",
    "from MyExpr.dfl.model.resnet import resnet152\n",
    "\n",
    "import torch.nn as nn\n",
    "\n",
    "# 加入测试模型\n",
    "model_list = [resnet18(num_classes=10), resnet34(num_classes=10), \n",
    "              resnet50(num_classes=10), resnet101(num_classes=10), \n",
    "              resnet152(num_classes=10)]\n",
    "\n",
    "criterion_CE = nn.CrossEntropyLoss()"
   ]
  },
  {
   "cell_type": "code",
   "execution_count": 4,
   "metadata": {
    "collapsed": false,
    "jupyter": {
     "outputs_hidden": false
    },
    "pycharm": {
     "name": "#%%\n"
    }
   },
   "outputs": [],
   "source": [
    "import wandb\n",
    "import time\n",
    "\n",
    "def run(model):\n",
    "    name = \"{:s}-lr{:3f}-bs{:d}\".format(args.model, args.lr, args.batch_size)\n",
    "    print(name)\n",
    "\n",
    "    wandb.init(project=\"classic-ml\",\n",
    "               entity=\"kyriegyj\",\n",
    "               name=name,\n",
    "               config=args)\n",
    "    \n",
    "    total_train_iteration = 0\n",
    "    \n",
    "    model.to(args.device)\n",
    "    optimizer = torch.optim.SGD(filter(lambda p: p.requires_grad, model.parameters()), lr=args.lr)\n",
    "    for epoch in range(args.epochs):\n",
    "        # train\n",
    "        start_time =  time.perf_counter()\n",
    "        total_loss = 0\n",
    "        total_correct = 0\n",
    "        for iteration, (train_X, train_Y) in enumerate(train_loader):\n",
    "            optimizer.zero_grad()\n",
    "            train_X, train_Y = train_X.to(args.device), train_Y.to(args.device)\n",
    "            outputs = model(train_X)\n",
    "            loss = criterion_CE(outputs, train_Y)\n",
    "\n",
    "            pred = outputs.argmax(dim=1)\n",
    "            correct = pred.eq(train_Y.view_as(pred)).sum()\n",
    "\n",
    "            loss.backward()\n",
    "            optimizer.step()\n",
    "\n",
    "            if \"cuda\" in args.device:\n",
    "                loss = loss.cpu()\n",
    "\n",
    "            loss = loss.detach().numpy()\n",
    "            acc = (correct / args.batch_size)\n",
    "            # wandb.log(step=total_train_iteration, data={\"loss\":loss, \"acc:\":acc})\n",
    "\n",
    "            total_loss += loss\n",
    "            total_correct += correct\n",
    "            total_train_iteration += 1\n",
    "\n",
    "        total_acc = (total_correct / (len(train_loader) * args.batch_size))\n",
    "        wandb.log(step=epoch, data={\"total_loss\":total_loss, \"total_acc\":total_acc})\n",
    "        end_time =  time.perf_counter()\n",
    "        print(\"epoch[{:d}] spends {:f}s\".format(epoch, (end_time - start_time)))\n",
    "\n",
    "        # test\n",
    "        total_test_loss = 0\n",
    "        total_test_correct = 0\n",
    "        with torch.no_grad():\n",
    "            for iteration, (test_X, test_Y) in enumerate(test_loader):\n",
    "                test_X, test_Y = test_X.to(args.device), test_Y.to(args.device)\n",
    "                outputs = model(test_X)\n",
    "                loss = criterion_CE(outputs, test_Y)\n",
    "                pred = outputs.argmax(dim=1)\n",
    "\n",
    "                if \"cuda\" in args.device:\n",
    "                    loss = loss.cpu()\n",
    "\n",
    "                loss = loss.detach().numpy()\n",
    "                correct = pred.eq(test_Y.view_as(pred)).sum()\n",
    "\n",
    "                total_test_loss += loss\n",
    "                total_test_correct += correct\n",
    "\n",
    "            total_test_acc = (total_test_correct / (len(test_loader) * args.batch_size))\n",
    "            wandb.log(step=epoch, data={\"total_test_loss\":total_test_loss, \"total_test_acc\":total_test_acc})\n",
    "\n",
    "    wandb.finish()\n",
    "    "
   ]
  },
  {
   "cell_type": "code",
   "execution_count": null,
   "metadata": {
    "collapsed": false,
    "jupyter": {
     "outputs_hidden": false
    },
    "pycharm": {
     "name": "#%%\n"
    }
   },
   "outputs": [
    {
     "name": "stdout",
     "output_type": "stream",
     "text": [
      "resnet18-lr0.001000-bs64\n"
     ]
    },
    {
     "name": "stderr",
     "output_type": "stream",
     "text": [
      "Failed to detect the name of this notebook, you can set it manually with the WANDB_NOTEBOOK_NAME environment variable to enable code saving.\n",
      "\u001B[34m\u001B[1mwandb\u001B[0m: Currently logged in as: \u001B[33mkyriegyj\u001B[0m (use `wandb login --relogin` to force relogin)\n"
     ]
    },
    {
     "data": {
      "text/html": [
       "Tracking run with wandb version 0.12.11"
      ],
      "text/plain": [
       "<IPython.core.display.HTML object>"
      ]
     },
     "metadata": {},
     "output_type": "display_data"
    },
    {
     "data": {
      "text/html": [
       "Run data is saved locally in <code>/home/guest/Fed_Expr/MyExpr/ml/wandb/run-20220310_140535-3av9vz3q</code>"
      ],
      "text/plain": [
       "<IPython.core.display.HTML object>"
      ]
     },
     "metadata": {},
     "output_type": "display_data"
    },
    {
     "data": {
      "text/html": [
       "Syncing run <strong><a href=\"https://wandb.ai/kyriegyj/classic-ml/runs/3av9vz3q\" target=\"_blank\">resnet18-lr0.001000-bs64</a></strong> to <a href=\"https://wandb.ai/kyriegyj/classic-ml\" target=\"_blank\">Weights & Biases</a> (<a href=\"https://wandb.me/run\" target=\"_blank\">docs</a>)<br/>"
      ],
      "text/plain": [
       "<IPython.core.display.HTML object>"
      ]
     },
     "metadata": {},
     "output_type": "display_data"
    }
   ],
   "source": [
    "for model in model_list:\n",
    "    run(model)"
   ]
  },
  {
   "cell_type": "code",
   "execution_count": null,
   "outputs": [],
   "source": [],
   "metadata": {
    "collapsed": false,
    "pycharm": {
     "name": "#%%\n"
    }
   }
  },
  {
   "cell_type": "code",
   "execution_count": null,
   "outputs": [],
   "source": [
    "\n"
   ],
   "metadata": {
    "collapsed": false,
    "pycharm": {
     "name": "#%%\n"
    }
   }
  },
  {
   "cell_type": "code",
   "execution_count": 2,
   "metadata": {},
   "outputs": [],
   "source": []
  },
  {
   "cell_type": "code",
   "execution_count": null,
   "metadata": {},
   "outputs": [],
   "source": []
  }
 ],
 "metadata": {
  "kernelspec": {
   "display_name": "Python 3 (ipykernel)",
   "language": "python",
   "name": "python3"
  },
  "language_info": {
   "codemirror_mode": {
    "name": "ipython",
    "version": 3
   },
   "file_extension": ".py",
   "mimetype": "text/x-python",
   "name": "python",
   "nbconvert_exporter": "python",
   "pygments_lexer": "ipython3",
   "version": "3.7.4"
  }
 },
 "nbformat": 4,
 "nbformat_minor": 4
}